{
 "cells": [
  {
   "cell_type": "markdown",
   "metadata": {},
   "source": [
    "## Data Science Career Track Guided Capstone - Step One: Problem Identification \n",
    "\n",
    "> Big   Mountain   Resort   has   recently   installed   an   additional   chair   lift   to   help   increase   the distribution   of   visitors   across   the   mountain.   This   additional   chair   increases   their operating   costs   by   $1,540,000   this   season.   Every   year   about   350,000   people   ski   or snowboard   at   Big   Mountain.   This   business   profit   margin   is   9.2%   and   the   investors   would like   to   keep   it   there.   The   business   is   eager   to   get   your   recommendations   on   recouping the   increased   operating   costs   from   the   new   chair   this   season.   Additionally,   what   can they   expect   this   years'   annual   revenue   to   be   if   they   make   the   changes   you   recommend?\n",
    "\n"
   ]
  },
  {
   "cell_type": "markdown",
   "metadata": {},
   "source": [
    "## Problem Statement Worksheet\n",
    "1. Context:\n",
    "> <font color='Blue'>Big Mountain Resort</font> has invested in a new chair lift increasing operational costs by $1.54M this season. Each season brings ~350,000 people to <font color='Blue'>Big Mountain Resort</font>. The business profit margin is 9.2%. <font color='Blue'>Big Mountain Resort</font> is looking for a way keep the profit margin at 9.2% with the increased operating costs.\n",
    "\n",
    "2. Citeria for success:\n",
    "> This season's profit margin results in 9.2%.\n",
    "\n",
    "3. Scope of solution space:\n",
    "> Options will be explored and implemented such as increasing prices, lowering operational costs, and increasing gross revenue. \n",
    "\n",
    "4. Constraints within solution space:\n",
    "> There is a limit to how high we can raise prices and continue to get atleast 350,000 people during the season. There is also a limit to reducing operational costs and staying within safe operating limits. There are also fiscal risks to implement business strategies that will increase gross revenue. \n",
    "\n",
    "5. Stakeholders to provide key insight\n",
    "> * Investors\n",
    "> * Director of Operations, Jimmy Blackburn\n",
    "> * Database Manager, Alesha Eisen\n",
    "\n",
    "6. What key data sources are required?\n",
    "> CSV database provided from Alesha E. \n",
    "> * Total chairs\n",
    "> * Runs\n",
    "> * Terrain parks\n",
    "> * Days open last year\n",
    "> * Years open\n",
    "> * Projected days open\n",
    "> * Admission costs\n",
    "\n"
   ]
  },
  {
   "cell_type": "markdown",
   "metadata": {},
   "source": [
    "**Problem Statement** - _Using SMART Principals_\n",
    "\n",
    "S: \"Specific, not general\"\n",
    "\n",
    "M: \"Measurable\"\n",
    "\n",
    "A: \"Action Oriented\"\n",
    "\n",
    "R: \"Relevent\"\n",
    "\n",
    "T: \"Time-Bound\"\n",
    "______________________________________________________________________\n"
   ]
  },
  {
   "cell_type": "markdown",
   "metadata": {},
   "source": [
    "_How can Big Mountain Resort maintain the business's profit margin at 9.2% or higher by offsetting the newly incurred operational costs of $1.54M with an adjustment of ticket prices, operational costs, and revenue generation this year?_"
   ]
  },
  {
   "cell_type": "markdown",
   "metadata": {},
   "source": [
    "# Step Two: Data Wrangling \n",
    "\n",
    "_Data Wrangling Steps:_\n",
    "\n",
    "Data wrangling consists of four high-level steps that should be applied in any data science project.\n",
    "\n",
    "  >  Data Collection <br>\n",
    "     Data Organization <br>\n",
    "     Data Definition <br>\n",
    "     Data Cleaning <br>"
   ]
  }
 ],
 "metadata": {
  "kernelspec": {
   "display_name": "Python 3",
   "language": "python",
   "name": "python3"
  },
  "language_info": {
   "codemirror_mode": {
    "name": "ipython",
    "version": 3
   },
   "file_extension": ".py",
   "mimetype": "text/x-python",
   "name": "python",
   "nbconvert_exporter": "python",
   "pygments_lexer": "ipython3",
   "version": "3.7.6"
  }
 },
 "nbformat": 4,
 "nbformat_minor": 4
}
